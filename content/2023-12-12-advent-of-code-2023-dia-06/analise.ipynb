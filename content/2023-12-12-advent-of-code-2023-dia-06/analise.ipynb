{
  "nbformat": 4,
  "nbformat_minor": 0,
  "metadata": {
    "colab": {
      "provenance": []
    },
    "kernelspec": {
      "name": "python3",
      "display_name": "Python 3"
    },
    "language_info": {
      "name": "python"
    }
  },
  "cells": [
    {
      "cell_type": "markdown",
      "source": [
        "# Advent of Code 2023 - Dia 6"
      ],
      "metadata": {
        "id": "EVR9qEWzHc5h"
      }
    },
    {
      "cell_type": "markdown",
      "source": [
        "O problema do [dia 6 do Advent of Code de 2023](https://adventofcode.com/2023/day/6) consiste em uma competição de barcos, onde quanto mais tempo segurar um botão, mais rápido o barco irá, porém menos tempo terá para se deslocar. Considerando que a competição tem tempo limite, deve-se encontrar um equilíbrio entre velocidade e tempo de deslocamento para bater os recordes."
      ],
      "metadata": {
        "id": "JozWSCz9j7Qd"
      }
    },
    {
      "cell_type": "markdown",
      "source": [
        "## Estudo do Problema"
      ],
      "metadata": {
        "id": "m4V2QHZaHkhq"
      }
    },
    {
      "cell_type": "markdown",
      "source": [
        "Como esse problema envolve tempo, distância e velocidade, isso permite modelá-lo matematicamente a partir da [definição de velocidade média](https://pt.wikipedia.org/wiki/Velocidade#Velocidade_m%C3%A9dia), uma vez que essa definição envolve as três grandezas citadas e não há variação da velocidade enquanto o deslocamento ocorre."
      ],
      "metadata": {
        "id": "hCwryDXbj-b4"
      }
    },
    {
      "cell_type": "markdown",
      "source": [
        "Para auxiliar nesse processo, será utilizada a biblioteca [SymPy](https://www.sympy.org/pt/) do [Python](https://www.python.org/). E com ele instalado no ambiente, basta importar suas funções. E para melhorar a visualização dentro de um notebook (arquivo `.ipynb`) é executado a função [`init_printing()`](https://docs.sympy.org/latest/modules/interactive.html#sympy.interactive.printing.init_printing):"
      ],
      "metadata": {
        "id": "BJBllQ4mHqDx"
      }
    },
    {
      "cell_type": "code",
      "execution_count": 1,
      "metadata": {
        "id": "hzvXOTKoCyrg"
      },
      "outputs": [],
      "source": [
        "from sympy import *\n",
        "\n",
        "init_printing()"
      ]
    },
    {
      "cell_type": "markdown",
      "source": [
        "A definição de velocidade pode ser modelada no SymPy definindo os símbolos que serão utilizados e organizando-os em uma equação, onde `v` é a velocidade, `Δs` é a variação do espaço e `Δt` a variação do tempo:"
      ],
      "metadata": {
        "id": "GDwHwFlTH3Oq"
      }
    },
    {
      "cell_type": "code",
      "source": [
        "v, ds, dt = symbols('v Δs Δt')\n",
        "velocidade = Eq(v, ds / dt)\n",
        "velocidade"
      ],
      "metadata": {
        "colab": {
          "base_uri": "https://localhost:8080/",
          "height": 52
        },
        "id": "AeWmkKj7C5e8",
        "outputId": "3ee15be0-b456-48ea-93b9-bed51f707306"
      },
      "execution_count": 2,
      "outputs": [
        {
          "output_type": "execute_result",
          "data": {
            "text/plain": [
              "    Δs\n",
              "v = ──\n",
              "    Δt"
            ],
            "text/latex": "$\\displaystyle v = \\frac{Δs}{Δt}$"
          },
          "metadata": {},
          "execution_count": 2
        }
      ]
    },
    {
      "cell_type": "markdown",
      "source": [
        "Com a definição de velocidade definida, pode-se relacionar essas grandezas com os dados do problema. No caso, a velocidade (`v`) será numericamente igual ao tempo em que o botão ficou pressionado (`x`), e a variação do tempo (`Δt`), que é o tempo do deslocamento, será igual ao tempo limite da corrida (`t`) descontado o tempo que o botão ficou pressionado (`t - x`). Logo pode-se substituí-los na equação:"
      ],
      "metadata": {
        "id": "Lh-VMO_8H5N9"
      }
    },
    {
      "cell_type": "code",
      "source": [
        "x, t = symbols('x t')\n",
        "velocidade_substituida = velocidade.subs({\n",
        "    v: x,\n",
        "    dt: t - x,\n",
        "})\n",
        "velocidade_substituida"
      ],
      "metadata": {
        "colab": {
          "base_uri": "https://localhost:8080/",
          "height": 53
        },
        "id": "LFfSpbZjDABb",
        "outputId": "ff096c20-f755-47ff-820a-f2fcf2a0ebb5"
      },
      "execution_count": 3,
      "outputs": [
        {
          "output_type": "execute_result",
          "data": {
            "text/plain": [
              "      Δs \n",
              "x = ─────\n",
              "    t - x"
            ],
            "text/latex": "$\\displaystyle x = \\frac{Δs}{t - x}$"
          },
          "metadata": {},
          "execution_count": 3
        }
      ]
    },
    {
      "cell_type": "markdown",
      "source": [
        "Como o problema pede para bater o recorde de distância percorrida, pode-se utilizar o SymPy para isolar a variável da distância (`Δs`) na equação anterior, o que resulta em uma expressão em função do tempo em que o botão foi pressionado (`x`). Utilizando essa expressão em uma inequação de forma que seja maior do que o recorde atual (`r`), valores de `x` que resolvam a inequação também resultam em novos recordes:"
      ],
      "metadata": {
        "id": "97j3yT3hJIfk"
      }
    },
    {
      "cell_type": "code",
      "source": [
        "r = symbols('r')\n",
        "distancia_percorrida = solve(velocidade_substituida, ds)[0]\n",
        "ineq = StrictGreaterThan(distancia_percorrida, r)\n",
        "ineq"
      ],
      "metadata": {
        "colab": {
          "base_uri": "https://localhost:8080/",
          "height": 38
        },
        "id": "tRo3u9VzDH6K",
        "outputId": "69dfd7a8-89c6-4c3e-a8de-3292bb9be851"
      },
      "execution_count": 4,
      "outputs": [
        {
          "output_type": "execute_result",
          "data": {
            "text/plain": [
              "x⋅(t - x) > r"
            ],
            "text/latex": "$\\displaystyle x \\left(t - x\\right) > r$"
          },
          "metadata": {},
          "execution_count": 4
        }
      ]
    },
    {
      "cell_type": "markdown",
      "source": [
        "Embora possa não parecer, esse é um polinômio de segundo grau, uma vez que `x` será elevado ao quadrado. A parábola resultante desse polinômio de segundo grau também possui a concavidade virada para baixo, uma vez que a constante que multiplica `x²` é negativa (`-1`):"
      ],
      "metadata": {
        "id": "mLUb4EaiztBD"
      }
    },
    {
      "cell_type": "code",
      "source": [
        "expand(ineq)"
      ],
      "metadata": {
        "colab": {
          "base_uri": "https://localhost:8080/",
          "height": 38
        },
        "id": "SqdOnPbnLBkQ",
        "outputId": "a0301f50-f974-455c-a4a5-0d9815c48a9c"
      },
      "execution_count": 5,
      "outputs": [
        {
          "output_type": "execute_result",
          "data": {
            "text/plain": [
              "       2    \n",
              "t⋅x - x  > r"
            ],
            "text/latex": "$\\displaystyle t x - x^{2} > r$"
          },
          "metadata": {},
          "execution_count": 5
        }
      ]
    },
    {
      "cell_type": "markdown",
      "source": [
        "Para facilitar a visualização, pode-se desenhar o gráfico das duas funções da inequação (lados da comparação). A baixo encontra-se o gráfico utilizando os valores do primeiro exemplo do problema:"
      ],
      "metadata": {
        "id": "l09jFctJM23j"
      }
    },
    {
      "cell_type": "code",
      "source": [
        "tempo = 7\n",
        "distancia = 9\n",
        "\n",
        "p1 = plot(distancia_percorrida.subs({t: tempo}), (x, 0, tempo), show=False)\n",
        "p2 = plot(distancia, show=False)\n",
        "p1.append(p2[0])\n",
        "p1.show()"
      ],
      "metadata": {
        "colab": {
          "base_uri": "https://localhost:8080/",
          "height": 484
        },
        "id": "HIh90Q12FzAH",
        "outputId": "c54eada5-19c4-4282-fb4c-ef6f1c76b258"
      },
      "execution_count": 6,
      "outputs": [
        {
          "output_type": "display_data",
          "data": {
            "text/plain": [
              "<Figure size 640x480 with 1 Axes>"
            ],
            "image/png": "[encoded data removed]"
          },
          "metadata": {}
        }
      ]
    },
    {
      "cell_type": "markdown",
      "source": [
        "Considerando a inequação, os valores desejado são os números pertencentes ao [conjunto dos naturais](https://pt.wikipedia.org/wiki/N%C3%BAmero_natural) (inteiros e não negativos) da parábola que estão a cima da linha do recorde atual. Logo é possível gerar um conjunto com os valores de `x` que solucionam o problema:"
      ],
      "metadata": {
        "id": "B8LOdWl3NFFr"
      }
    },
    {
      "cell_type": "code",
      "source": [
        "solucoes = solveset(ineq.subs({t: 7, r: 9}), x, domain=S.Naturals)\n",
        "solucoes"
      ],
      "metadata": {
        "colab": {
          "base_uri": "https://localhost:8080/",
          "height": 37
        },
        "id": "dsnj3GCPDK7T",
        "outputId": "6d7f3b0a-1139-4a45-b58e-1ae1d8e0fe69"
      },
      "execution_count": 7,
      "outputs": [
        {
          "output_type": "execute_result",
          "data": {
            "text/plain": [
              "{2, 3, 4, 5}"
            ],
            "text/latex": "$\\displaystyle \\left\\{2, 3, \\ldots, 5\\right\\}$"
          },
          "metadata": {},
          "execution_count": 7
        }
      ]
    },
    {
      "cell_type": "markdown",
      "source": [
        "Como curiosidade, ainda pode-se encontrar os pontos onde as duas funções se encontram, para isso basta transformar a inequação em uma equação e resolvê-la:"
      ],
      "metadata": {
        "id": "KY4h7BgONKPK"
      }
    },
    {
      "cell_type": "code",
      "source": [
        "eq = Eq(distancia_percorrida, r)\n",
        "solucoes = solve(eq.subs({t: 7, r: 9}), x)\n",
        "solucoes"
      ],
      "metadata": {
        "colab": {
          "base_uri": "https://localhost:8080/",
          "height": 68
        },
        "id": "Mqz_S0KdD2uN",
        "outputId": "62ef85b7-6530-4279-d053-a7e42ad5d184"
      },
      "execution_count": 8,
      "outputs": [
        {
          "output_type": "execute_result",
          "data": {
            "text/plain": [
              "⎡7   √13  √13   7⎤\n",
              "⎢─ - ───, ─── + ─⎥\n",
              "⎣2    2    2    2⎦"
            ],
            "text/latex": "$\\displaystyle \\left[ \\frac{7}{2} - \\frac{\\sqrt{13}}{2}, \\  \\frac{\\sqrt{13}}{2} + \\frac{7}{2}\\right]$"
          },
          "metadata": {},
          "execution_count": 8
        }
      ]
    },
    {
      "cell_type": "markdown",
      "source": [
        "Ou ainda obter o seu valor numérico:"
      ],
      "metadata": {
        "id": "eGASRMxt7VCG"
      }
    },
    {
      "cell_type": "code",
      "source": [
        "[solucao.n() for solucao in solucoes]"
      ],
      "metadata": {
        "colab": {
          "base_uri": "https://localhost:8080/",
          "height": 37
        },
        "id": "yiRPMYyeElhM",
        "outputId": "6e7944af-0e28-4806-b2fd-4fe759383858"
      },
      "execution_count": 9,
      "outputs": [
        {
          "output_type": "execute_result",
          "data": {
            "text/plain": [
              "[1.69722436226801, 5.30277563773199]"
            ],
            "text/latex": "$\\displaystyle \\left[ 1.69722436226801, \\  5.30277563773199\\right]$"
          },
          "metadata": {},
          "execution_count": 9
        }
      ]
    },
    {
      "cell_type": "markdown",
      "source": [
        "Desta forma é possível encontrar tempos em que o botão pode ser pressionado (`x`) que resultem em novos recordes resolvendo apenas a inequação."
      ],
      "metadata": {
        "id": "q8iTDyPPdGDr"
      }
    },
    {
      "cell_type": "markdown",
      "source": [
        "## Parte 1"
      ],
      "metadata": {
        "id": "dHbNrLgnN4ui"
      }
    },
    {
      "cell_type": "markdown",
      "source": [
        "A primeira parte do problema pede para encontrar a quantidade de soluções possível para algumas corridas e multiplicá-los. Para facilitar esse cálculo, pode-se criar uma função que retorne a quantidade de soluções encontradas para cada corrida, que será igual à quantidade de números no conjunto da solução como calculado anteriormente:"
      ],
      "metadata": {
        "id": "RuNpqekY7avz"
      }
    },
    {
      "cell_type": "code",
      "source": [
        "def quantidade_solucoes(tempo, distancia):\n",
        "    return len(solveset(ineq.subs({t: tempo, r: distancia}), x, domain=S.Naturals))"
      ],
      "metadata": {
        "id": "N_x6o-LpOFiY"
      },
      "execution_count": 10,
      "outputs": []
    },
    {
      "cell_type": "markdown",
      "source": [
        "Os dados de entrada podem ser facilmente tratados com operações de string e conversão de tipos:"
      ],
      "metadata": {
        "id": "Py_5FuHZ8s_P"
      }
    },
    {
      "cell_type": "code",
      "source": [
        "dados = \"\"\"Time:      7  15   30\n",
        "Distance:  9  40  200\"\"\"\n",
        "\n",
        "str_tempos, str_distancias = [linha.split(':')[1].split() for linha in dados.split('\\n')]\n",
        "int_tempos = [int(tempo) for tempo in str_tempos]\n",
        "int_distancias = [int(distancia) for distancia in str_distancias]\n",
        "\n",
        "{\n",
        "    'str_tempos': str_tempos,\n",
        "    'int_tempos': int_tempos,\n",
        "    'str_distancias': str_distancias,\n",
        "    'int_distancias': int_distancias,\n",
        "}"
      ],
      "metadata": {
        "id": "8R0oz1wsN7NV",
        "colab": {
          "base_uri": "https://localhost:8080/"
        },
        "outputId": "6ce5340c-cca5-4955-e9ab-ec99d3b19b33"
      },
      "execution_count": 11,
      "outputs": [
        {
          "output_type": "execute_result",
          "data": {
            "text/plain": [
              "{'str_tempos': ['7', '15', '30'],\n",
              " 'int_tempos': [7, 15, 30],\n",
              " 'str_distancias': ['9', '40', '200'],\n",
              " 'int_distancias': [9, 40, 200]}"
            ]
          },
          "metadata": {},
          "execution_count": 11
        }
      ]
    },
    {
      "cell_type": "markdown",
      "source": [
        "E as quantidades de soluções possíveis podem ser facilmente calculadas chamando a função criada anteriormente:"
      ],
      "metadata": {
        "id": "KO0Xk4mq9Q4K"
      }
    },
    {
      "cell_type": "code",
      "source": [
        "quantidades = [quantidade_solucoes(tempo, distancia) for tempo, distancia in zip(int_tempos, int_distancias)]\n",
        "quantidades"
      ],
      "metadata": {
        "colab": {
          "base_uri": "https://localhost:8080/",
          "height": 37
        },
        "id": "4Tk8zOFl9BrM",
        "outputId": "578f4a14-1e39-46b1-cad1-401961008ce9"
      },
      "execution_count": 12,
      "outputs": [
        {
          "output_type": "execute_result",
          "data": {
            "text/plain": [
              "[4, 8, 9]"
            ],
            "text/latex": "$\\displaystyle \\left[ 4, \\  8, \\  9\\right]$"
          },
          "metadata": {},
          "execution_count": 12
        }
      ]
    },
    {
      "cell_type": "markdown",
      "source": [
        "Com isso feito, basta multiplicar todos os valores:"
      ],
      "metadata": {
        "id": "FBEkVVLq9AsN"
      }
    },
    {
      "cell_type": "code",
      "source": [
        "from functools import reduce\n",
        "from operator import mul\n",
        "\n",
        "reduce(mul, quantidades)"
      ],
      "metadata": {
        "colab": {
          "base_uri": "https://localhost:8080/",
          "height": 37
        },
        "id": "1mOW9PFEPJ9F",
        "outputId": "3d5120b5-8919-4ce6-b718-5bc63c3b8a73"
      },
      "execution_count": 13,
      "outputs": [
        {
          "output_type": "execute_result",
          "data": {
            "text/plain": [
              "288"
            ],
            "text/latex": "$\\displaystyle 288$"
          },
          "metadata": {},
          "execution_count": 13
        }
      ]
    },
    {
      "cell_type": "markdown",
      "source": [
        "## Parte 2"
      ],
      "metadata": {
        "id": "xiQy-vNaQbit"
      }
    },
    {
      "cell_type": "markdown",
      "source": [
        "A segunda parte do problema é bastante semelhante a primeira, porém envolve números maiores como entrada (todos os valores da primeira parte concatenados). Como aqui todas as operações são cálculos matemáticos, isso não deve ser problema e pode ser facilmente calculado:"
      ],
      "metadata": {
        "id": "5ERW1xit9zQc"
      }
    },
    {
      "cell_type": "code",
      "source": [
        "tempo = int(''.join(str_tempos))\n",
        "distancia = int(''.join(str_distancias))\n",
        "\n",
        "quantidade_solucoes(tempo, distancia)"
      ],
      "metadata": {
        "colab": {
          "base_uri": "https://localhost:8080/",
          "height": 37
        },
        "id": "HyfydGisQdQR",
        "outputId": "da196f31-3623-4ff2-d059-8d699e9311f4"
      },
      "execution_count": 14,
      "outputs": [
        {
          "output_type": "execute_result",
          "data": {
            "text/plain": [
              "71503"
            ],
            "text/latex": "$\\displaystyle 71503$"
          },
          "metadata": {},
          "execution_count": 14
        }
      ]
    },
    {
      "cell_type": "markdown",
      "source": [
        "## Considerações"
      ],
      "metadata": {
        "id": "cFMLnMnlfVTn"
      }
    },
    {
      "cell_type": "markdown",
      "source": [
        "O SymPy é uma boa ferramenta para manipular expressões matemáticas. Ela ainda exige o conhecimento do que deve ser feito, mas facilita partes trabalhosas, como resolver e simplificar equações, de que outra forma teriam que ser feitas manualmente. Desta forma, ela facilitou grandemente a modelagem e resolução desse problema do Advent of Code, além de permitir uma melhor e rápida visualização do problema usando comandos rápidos."
      ],
      "metadata": {
        "id": "8ovdZNcxfX4Y"
      }
    }
  ]
}